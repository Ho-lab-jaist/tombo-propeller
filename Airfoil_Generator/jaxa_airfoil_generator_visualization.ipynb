{
 "cells": [
  {
   "cell_type": "code",
   "execution_count": 2,
   "metadata": {},
   "outputs": [],
   "source": [
    "from airfoil_generator_functions import *"
   ]
  },
  {
   "cell_type": "code",
   "execution_count": 3,
   "metadata": {},
   "outputs": [
    {
     "name": "stdout",
     "output_type": "stream",
     "text": [
      "mesh loaded successful\n"
     ]
    }
   ],
   "source": [
    "\n",
    "mesh = PropellerMesh('./nine_inch_tombo_propeller.msh')"
   ]
  },
  {
   "cell_type": "code",
   "execution_count": 11,
   "metadata": {},
   "outputs": [
    {
     "ename": "PermissionError",
     "evalue": "[Errno 13] Permission denied: 'jaxa_cross_infor.csv'",
     "output_type": "error",
     "traceback": [
      "\u001b[1;31m---------------------------------------------------------------------------\u001b[0m",
      "\u001b[1;31mPermissionError\u001b[0m                           Traceback (most recent call last)",
      "\u001b[1;32m<ipython-input-11-beddb84cc06d>\u001b[0m in \u001b[0;36m<module>\u001b[1;34m\u001b[0m\n\u001b[0;32m      4\u001b[0m \u001b[0mstep\u001b[0m \u001b[1;33m=\u001b[0m \u001b[1;36m10\u001b[0m\u001b[1;33m\u001b[0m\u001b[1;33m\u001b[0m\u001b[0m\n\u001b[0;32m      5\u001b[0m \u001b[0mheader\u001b[0m \u001b[1;33m=\u001b[0m \u001b[1;33m[\u001b[0m\u001b[1;34m'cross-section position'\u001b[0m\u001b[1;33m,\u001b[0m \u001b[1;34m'number of upper points'\u001b[0m\u001b[1;33m,\u001b[0m \u001b[1;34m'number of lower points'\u001b[0m\u001b[1;33m,\u001b[0m \u001b[1;34m'twist angle'\u001b[0m\u001b[1;33m,\u001b[0m \u001b[1;34m'chord length'\u001b[0m\u001b[1;33m,\u001b[0m \u001b[1;34m'l'\u001b[0m\u001b[1;33m,\u001b[0m \u001b[1;34m't'\u001b[0m\u001b[1;33m]\u001b[0m\u001b[1;33m\u001b[0m\u001b[1;33m\u001b[0m\u001b[0m\n\u001b[1;32m----> 6\u001b[1;33m \u001b[1;32mwith\u001b[0m \u001b[0mopen\u001b[0m\u001b[1;33m(\u001b[0m\u001b[1;34m'jaxa_cross_infor.csv'\u001b[0m\u001b[1;33m,\u001b[0m \u001b[1;34m'w'\u001b[0m\u001b[1;33m,\u001b[0m \u001b[0mencoding\u001b[0m\u001b[1;33m=\u001b[0m\u001b[1;34m'UTF8'\u001b[0m\u001b[1;33m,\u001b[0m \u001b[0mnewline\u001b[0m\u001b[1;33m=\u001b[0m\u001b[1;34m\"\"\u001b[0m\u001b[1;33m)\u001b[0m \u001b[1;32mas\u001b[0m \u001b[0mg\u001b[0m\u001b[1;33m:\u001b[0m\u001b[1;33m\u001b[0m\u001b[1;33m\u001b[0m\u001b[0m\n\u001b[0m\u001b[0;32m      7\u001b[0m     \u001b[1;31m# write the header\u001b[0m\u001b[1;33m\u001b[0m\u001b[1;33m\u001b[0m\u001b[1;33m\u001b[0m\u001b[0m\n\u001b[0;32m      8\u001b[0m     \u001b[0mwriter\u001b[0m \u001b[1;33m=\u001b[0m \u001b[0mcsv\u001b[0m\u001b[1;33m.\u001b[0m\u001b[0mwriter\u001b[0m\u001b[1;33m(\u001b[0m\u001b[0mg\u001b[0m\u001b[1;33m)\u001b[0m\u001b[1;33m\u001b[0m\u001b[1;33m\u001b[0m\u001b[0m\n",
      "\u001b[1;31mPermissionError\u001b[0m: [Errno 13] Permission denied: 'jaxa_cross_infor.csv'"
     ]
    }
   ],
   "source": [
    "normal_vector = [1, 0, 0]\n",
    "r = 20\n",
    "R = 110\n",
    "step = 10\n",
    "header = ['cross-section position', 'number of upper points', 'number of lower points', 'twist angle', 'chord length', 'l', 't']\n",
    "with open('jaxa_cross_infor.csv', 'w', encoding='UTF8', newline=\"\") as g:\n",
    "    # write the header\n",
    "    writer = csv.writer(g)\n",
    "    writer.writerow(header)\n",
    "    for i in range(r, R, step):\n",
    "        j = round(i/R, 2)\n",
    "        print(j)\n",
    "        PropellerCrossSection = [-i, 0, 0]\n",
    "        slice = mesh.section(plane_origin=[PropellerCrossSection[0], PropellerCrossSection[1], PropellerCrossSection[2]],\n",
    "                         plane_normal=normal_vector)\n",
    "        AirfoilSlice2D, to_3D = slice.to_planar()    \n",
    "        cross_section_points = extract_points_of_slice2D(AirfoilSlice2D)\n",
    "        convert_points = [cross_section_points[1], -cross_section_points[0]]\n",
    "        airfoil = []\n",
    "        for i in range(len(convert_points[0])):\n",
    "            point = (convert_points[0][i], convert_points[1][i])\n",
    "            airfoil.append(point)   \n",
    "        twist_angle, l, t, chord_length = rotate_angle_of_airfoil(airfoil)\n",
    "        rotated_points = rotate_and_shift(np.array(airfoil), airfoil[l], degrees=-twist_angle) / chord_length\n",
    "        uppers, lowers = split_upper_and_lower(rotated_points, l, t)\n",
    "        floatformat = ff.FortranRecordWriter('(1E20.10)')\n",
    "        intformat = ff.FortranRecordWriter('(I12)')\n",
    "        \n",
    "        with open(f'cross_{j}.txt', 'w') as f:\n",
    "            n_uppers = uppers.shape[0]\n",
    "            f.write(intformat.write([n_uppers]) + '\\n')\n",
    "            f.write(floatformat.write(uppers[:, 0]) + '\\n')\n",
    "            f.write(floatformat.write(uppers[:, 1]) + '\\n')\n",
    "\n",
    "            n_lowers = lowers.shape[0]\n",
    "            f.write(intformat.write([n_lowers]) + '\\n')\n",
    "            f.write(floatformat.write(lowers[:, 0]) + '\\n')\n",
    "            f.write(floatformat.write(lowers[:, 1]) + '\\n')\n",
    "            f.close()\n",
    "        data = [j, n_uppers, n_lowers, twist_angle, chord_length]\n",
    "        # write the data\n",
    "        writer.writerow(data)\n",
    "        plt.figure(figsize = (5, 5))\n",
    "        PlotSpline(uppers, \"blue\")\n",
    "        PlotSpline(lowers, \"red\")\n",
    "        plt.axis('equal')\n",
    "        plt.show()\n",
    "        plt.close()\n",
    "    g.close()"
   ]
  },
  {
   "cell_type": "code",
   "execution_count": null,
   "metadata": {},
   "outputs": [],
   "source": [
    "PropellerCrossSection = [-15, 0, 0]\n",
    "slice = mesh.section(plane_origin=[PropellerCrossSection[0], PropellerCrossSection[1], PropellerCrossSection[2]],\n",
    "                plane_normal=normal_vector)\n",
    "AirfoilSlice2D, to_3D = slice.to_planar()    \n",
    "cross_section_points = extract_points_of_slice2D(AirfoilSlice2D)\n",
    "convert_points = [cross_section_points[1], -cross_section_points[0]]\n",
    "airfoil = []\n",
    "for i in range(len(convert_points[0])):\n",
    "    point = (convert_points[0][i], convert_points[1][i])\n",
    "    airfoil.append(point) \n",
    "twist_angle, l, t, chord_length = rotate_angle_of_airfoil(airfoil)\n",
    "rotated_points = rotate_and_shift(np.array(airfoil), airfoil[l], degrees=-twist_angle) / chord_length\n",
    "uppers, lowers = split_upper_and_lower(rotated_points, l, t)\n"
   ]
  },
  {
   "cell_type": "code",
   "execution_count": null,
   "metadata": {},
   "outputs": [],
   "source": []
  }
 ],
 "metadata": {
  "interpreter": {
   "hash": "ddacd2f525a6dc24c37278dd6ff6672624f9d86a60b555a903b4018960fde771"
  },
  "kernelspec": {
   "display_name": "Python 3.6.13 ('workenv')",
   "language": "python",
   "name": "python3"
  },
  "language_info": {
   "codemirror_mode": {
    "name": "ipython",
    "version": 3
   },
   "file_extension": ".py",
   "mimetype": "text/x-python",
   "name": "python",
   "nbconvert_exporter": "python",
   "pygments_lexer": "ipython3",
   "version": "3.6.13"
  },
  "orig_nbformat": 4
 },
 "nbformat": 4,
 "nbformat_minor": 2
}
